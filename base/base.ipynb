{
 "metadata": {
  "language_info": {
   "codemirror_mode": {
    "name": "ipython",
    "version": 3
   },
   "file_extension": ".py",
   "mimetype": "text/x-python",
   "name": "python",
   "nbconvert_exporter": "python",
   "pygments_lexer": "ipython3",
   "version": "3.6.8"
  },
  "orig_nbformat": 4,
  "kernelspec": {
   "name": "python3",
   "display_name": "Python 3.6.8 64-bit"
  },
  "interpreter": {
   "hash": "467bf329deed5a547c12274ccd96abac4ed8828c9b75003f7b596310e7e392f2"
  }
 },
 "nbformat": 4,
 "nbformat_minor": 2,
 "cells": [
  {
   "cell_type": "code",
   "execution_count": 55,
   "metadata": {},
   "outputs": [
    {
     "output_type": "stream",
     "name": "stdout",
     "text": [
      "19.48\n266.68\n2.575\n8.750813272608978 11.376057254391672\n12\n618.0\n0.08716513394642143\n235.66666666666663 < 320.016\n"
     ]
    }
   ],
   "source": [
    "# 基底以上土的加权平均重度\n",
    "γm = (18*0.5 + 20 * 1.5 + 19.4 * 0.5)/2.5\n",
    "# 持力层承载力特征值\n",
    "fa = 195 + 1.6 * 22.4 * (2.5 - 0.5)\n",
    "\n",
    "# B 柱底荷载标准值\n",
    "Fk = 1883 \n",
    "Mk = 218\n",
    "Vk = 90\n",
    "\n",
    "# 计算基础和回填土重Gk时的基础埋深\n",
    "d = 0.5 * (2.5 + 2.65)\n",
    "γG = 20\n",
    "# 基础底面积\n",
    "A0 = Fk / (fa - γG * d)\n",
    "# 考虑偏心荷载的影响，基础底面积增大 1.1~1.4，此处增大 1.2\n",
    "A = 1.3 * A0 \n",
    "# A 取 12\n",
    "A = 12\n",
    "# 长宽\n",
    "l = 4\n",
    "b = 3\n",
    "# 基础和回填土重\n",
    "Gk = γG * d * A\n",
    "# 偏心距\n",
    "ek = Mk / (Fk + Gk)\n",
    "# 基底最大压力\n",
    "Pkmax = (Fk + Gk) / A * (1 + 6 * ek / l)\n",
    "print(γm)\n",
    "print(fa)\n",
    "print(d)\n",
    "print(A0, 1.3 * A0)\n",
    "print(A)\n",
    "print(Gk)\n",
    "print(ek)\n",
    "print(Pkmax, \"<\", 1.2*fa)"
   ]
  },
  {
   "cell_type": "code",
   "execution_count": 56,
   "metadata": {},
   "outputs": [
    {
     "output_type": "stream",
     "name": "stdout",
     "text": [
      "0.1542483660130719\n251.20000000000002\n156.79999999999998\n0.07196483368421054\n0.044920724210526314\n0.027044109473684227\n"
     ]
    }
   ],
   "source": [
    "import math\n",
    "# B 柱底荷载效应基本组合设计值\n",
    "F = 2448\n",
    "M = 284\n",
    "V = 117\n",
    "# 净偏心距\n",
    "en0 = (M + V * 0.8) / F\n",
    "# 基础边缘处的最大和最小净反力\n",
    "pnmax = F / (l*b) * (1 + 6 * en0 / l)\n",
    "pnmin = F / (l*b) * (1 - 6 * en0 / l)\n",
    "# 泊松比\n",
    "μ = 0.4\n",
    "# 沉降影响系数\n",
    "w = 1.08\n",
    "# 变形模量\n",
    "E = 9.5\n",
    "# 基础边缘处沉降\n",
    "smax = (1- math.pow(μ, 2)) / (E*math.pow(10,6)) * w * b * pnmax * math.pow(10, 3)\n",
    "smin = (1- math.pow(μ, 2)) / (E*math.pow(10, 6)) * w * b * pnmin * math.pow(10, 3)\n",
    "Δs = smax - smin\n",
    "print(en0)\n",
    "print(pnmax)\n",
    "print(pnmin)\n",
    "print(smax)\n",
    "print(smin)\n",
    "print(Δs)"
   ]
  },
  {
   "cell_type": "code",
   "execution_count": 57,
   "metadata": {},
   "outputs": [
    {
     "output_type": "stream",
     "name": "stdout",
     "text": [
      "1.3333333333333333 1.2000000000000002\n==========\n1.7166666666666668 1.6 1.8\n0.7919333333333334\n==========\n2.1999999999999997 2.2 2.4000000000000004\n0.7097333333333333\n==========\n1.6499999999999997 1.6 1.8\n0.8044666666666667\n==========\n2.8166666666666664 2.8000000000000003 3.0\n0.6194333333333334\n==========\n3.15 3.0 3.2\n0.5781666666666667\n44.077169130350875\n6.546891783333331\n25.233767478333334\n2.1940472150000114\n0.8696106649999977\n4.220616666666667 2.575 3.3 5.05 6.8 7.3 2.3065374395639013\n1.3853333333333333\n109.33256564883497\n618.0\n255.5\n50.161\n205.339\n"
     ]
    }
   ],
   "source": [
    "# 地基变形验算\n",
    "G = γG * A * d\n",
    "P = (F + G) / A\n",
    "σc = γm * d\n",
    "P0 = P - σc\n",
    "\n",
    "z = d\n",
    "\n",
    "def alpha(lb, lbLess, zb, zbLess, zbBigger, zbllbl, zbblbl,  zbllbb: float) -> float:\n",
    "    return 4 * (((zb-zbLess)*(zbblbl-zbllbl)+(0.4-0.2)*zbllbl)/(0.4-0.2)+(lb-lbLess)*(zbllbb-zbllbl)/(0.4-0.2))\n",
    "\n",
    "def getLess(v: float) -> float:\n",
    "    i = 0\n",
    "    a = 0\n",
    "    while (a <= v):\n",
    "        a += 0.2\n",
    "        i += 1\n",
    "    return (i-1) * 0.2\n",
    "\n",
    "def getBigger(v: float) -> float:\n",
    "    i = 0\n",
    "    a = 0\n",
    "    while (a <= v):\n",
    "        a += 0.2\n",
    "        i += 1\n",
    "    return i * 0.2\n",
    "\n",
    "def cal_alpha(lb, zb, zbllbl, zbblbl, zbllbb: float) -> float:\n",
    "    return alpha(lb, getLess(lb), zb, getLess(zb), getBigger(zb), zbllbl, zbblbl, zbllbb) \n",
    "\n",
    "lb = l / b\n",
    "\n",
    "print(lb, getLess(lb))\n",
    "\n",
    "zb0 = z / (0.5 * b)\n",
    "z1 = 0.5 + 1.5 + 1.3\n",
    "zb1 = z1 / (0.5 * b)\n",
    "z2 = 0.5 + 1.5 + 1.3 + 1.75\n",
    "zb2 = (z2 - z) / (0.5 * b)\n",
    "z3 = 0.5 + 1.5 + 1.3 + 1.75 + 1.75\n",
    "zb3 = (z3 - z)/ (0.5 * b)\n",
    "z4 = 0.5 + 1.5 + 1.3 + 1.75 + 1.75 + 0.5\n",
    "zb4 = (z4 - z) / (0.5 * b)\n",
    "print(\"==========\")\n",
    "print(zb0, getLess(zb0), getBigger(zb0))\n",
    "α0 = cal_alpha(lb, zb0, 0.2006, 0.1912, 0.2049)\n",
    "print(α0)\n",
    "\n",
    "print(\"==========\")\n",
    "print(zb1, getLess(zb1), getBigger(zb1))\n",
    "α1 = cal_alpha(lb, zb1, 0.1737, 0.1657, 0.1793)\n",
    "print(α1)\n",
    "\n",
    "print(\"==========\")\n",
    "print(zb2, getLess(zb2), getBigger(zb2))\n",
    "α2 = cal_alpha(lb, zb2, 0.2006, 0.1912, 0.2049)\n",
    "print(α2)\n",
    "\n",
    "print(\"==========\")\n",
    "print(zb3, getLess(zb3), getBigger(zb3))\n",
    "α3 = cal_alpha(lb, zb3, 0.1514, 0.1449, 0.1574)\n",
    "print(α3)\n",
    "\n",
    "print(\"==========\")\n",
    "print(zb4, getLess(zb4), getBigger(zb4))\n",
    "α4 = cal_alpha(lb, zb4, 0.1449, 0.1390, 0.1510)\n",
    "print(α4)\n",
    "\n",
    "ΔS0 = P0 / 9.5 * (z * α0 - 0)\n",
    "ΔS1 = P0 / 9.5 * (z1 * α1 - z * α0)\n",
    "ΔS2 = P0 / 14 * (z2 * α2 - z1 * α1)\n",
    "ΔS3 = P0 / 14 * (z3 * α3 - z2 * α2)\n",
    "ΔS4 = P0 / 2.0 * (z4 * α4 - z3 * α3)\n",
    "\n",
    "print(ΔS0)\n",
    "print(ΔS1)\n",
    "print(ΔS2)\n",
    "print(ΔS3)\n",
    "print(ΔS4)\n",
    "\n",
    "Es = (z4 * α4) / (z/9.5 + z1/9.5 + z2/14 + z3/14 + z4/20)\n",
    "print(z4 * α4, z, z1, z2, z3, z4, Es)\n",
    "\n",
    "ψs = 1.4 - (2.5-2.28)/(4.0-2.5) * (1.4-1.3)\n",
    "print(ψs)\n",
    "s = ψs * (ΔS0 + ΔS1 + ΔS2 + ΔS3 + ΔS4)\n",
    "print(s) \n",
    "\n",
    "print(G)\n",
    "print(P)\n",
    "print(σc)\n",
    "print(P0)"
   ]
  },
  {
   "cell_type": "code",
   "execution_count": 58,
   "metadata": {},
   "outputs": [
    {
     "output_type": "stream",
     "name": "stdout",
     "text": [
      "1.1532687197819507 1.575 1.5\n",
      "0.42447481620960476\n",
      "38.35278175000088 137.72 20.25294117647059 176.07278175000087 197.5935294117647\n"
     ]
    }
   ],
   "source": [
    "import math\n",
    "Es = Es\n",
    "b = b\n",
    "d = d\n",
    "Pk = (Fk + Gk) / A\n",
    "EsEs = Es / 2.0\n",
    "zr = (z4 - z) / b\n",
    "θ = 23\n",
    "tanθ = math.tan(math.radians(θ))\n",
    "dr = 0.5 + 1.5 + 1.3 + 3.5 - d\n",
    "σcd = 0.5 * 18 + 1.5 * 20 + + 0.5 * 19.4\n",
    "σz = l*b*(Pk - σcd) / ((l + 2 * dr * tanθ) * (b + 2 * dr * tanθ))\n",
    "σcz = 18 * 0.5 + 20 * 1.5 + 19.4 * 1.3 + 3.5 * 21\n",
    "γmx = σcz / (d + dr)\n",
    "faz = 70 + 1.0 * γmx * (6.8 - 0.5)\n",
    "\n",
    "print(EsEs, zr, 0.5 * b)\n",
    "print(tanθ)\n",
    "print(σz, σcz, γmx, σz + σcz, faz)"
   ]
  }
 ]
}